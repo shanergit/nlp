{
  "nbformat": 4,
  "nbformat_minor": 0,
  "metadata": {
    "colab": {
      "provenance": [],
      "gpuType": "T4"
    },
    "kernelspec": {
      "name": "python3",
      "display_name": "Python 3"
    },
    "language_info": {
      "name": "python"
    },
    "accelerator": "GPU"
  },
  "cells": [
    {
      "cell_type": "markdown",
      "source": [
        "# Adverse Drug Event Detection using Classical NLP"
      ],
      "metadata": {
        "id": "N8_99UAA2DZu"
      }
    },
    {
      "cell_type": "markdown",
      "source": [
        "## Load the ADE-Corpus-V2 dataset"
      ],
      "metadata": {
        "id": "bOMcsoRE2TjS"
      }
    },
    {
      "cell_type": "code",
      "execution_count": 1,
      "metadata": {
        "colab": {
          "base_uri": "https://localhost:8080/",
          "height": 326
        },
        "id": "S5GmRCODi3LA",
        "outputId": "7743ae77-d1a1-40ed-df74-7357ed51877b"
      },
      "outputs": [
        {
          "output_type": "stream",
          "name": "stderr",
          "text": [
            "/usr/local/lib/python3.10/dist-packages/huggingface_hub/utils/_token.py:89: UserWarning: \n",
            "The secret `HF_TOKEN` does not exist in your Colab secrets.\n",
            "To authenticate with the Hugging Face Hub, create a token in your settings tab (https://huggingface.co/settings/tokens), set it as secret in your Google Colab and restart your session.\n",
            "You will be able to reuse this secret in all of your notebooks.\n",
            "Please note that authentication is recommended but still optional to access public models or datasets.\n",
            "  warnings.warn(\n"
          ]
        },
        {
          "output_type": "execute_result",
          "data": {
            "text/plain": [
              "                                                text  label\n",
              "0      Intravenous azithromycin-induced ototoxicity.      1\n",
              "1  Immobilization, while Paget's bone disease was...      1\n",
              "2  Unaccountable severe hypercalcemia in a patien...      1\n",
              "3  METHODS: We report two cases of pseudoporphyri...      1\n",
              "4  METHODS: We report two cases of pseudoporphyri...      1"
            ],
            "text/html": [
              "\n",
              "  <div id=\"df-ec17e886-670d-4368-bbb2-97cf3782dc97\" class=\"colab-df-container\">\n",
              "    <div>\n",
              "<style scoped>\n",
              "    .dataframe tbody tr th:only-of-type {\n",
              "        vertical-align: middle;\n",
              "    }\n",
              "\n",
              "    .dataframe tbody tr th {\n",
              "        vertical-align: top;\n",
              "    }\n",
              "\n",
              "    .dataframe thead th {\n",
              "        text-align: right;\n",
              "    }\n",
              "</style>\n",
              "<table border=\"1\" class=\"dataframe\">\n",
              "  <thead>\n",
              "    <tr style=\"text-align: right;\">\n",
              "      <th></th>\n",
              "      <th>text</th>\n",
              "      <th>label</th>\n",
              "    </tr>\n",
              "  </thead>\n",
              "  <tbody>\n",
              "    <tr>\n",
              "      <th>0</th>\n",
              "      <td>Intravenous azithromycin-induced ototoxicity.</td>\n",
              "      <td>1</td>\n",
              "    </tr>\n",
              "    <tr>\n",
              "      <th>1</th>\n",
              "      <td>Immobilization, while Paget's bone disease was...</td>\n",
              "      <td>1</td>\n",
              "    </tr>\n",
              "    <tr>\n",
              "      <th>2</th>\n",
              "      <td>Unaccountable severe hypercalcemia in a patien...</td>\n",
              "      <td>1</td>\n",
              "    </tr>\n",
              "    <tr>\n",
              "      <th>3</th>\n",
              "      <td>METHODS: We report two cases of pseudoporphyri...</td>\n",
              "      <td>1</td>\n",
              "    </tr>\n",
              "    <tr>\n",
              "      <th>4</th>\n",
              "      <td>METHODS: We report two cases of pseudoporphyri...</td>\n",
              "      <td>1</td>\n",
              "    </tr>\n",
              "  </tbody>\n",
              "</table>\n",
              "</div>\n",
              "    <div class=\"colab-df-buttons\">\n",
              "\n",
              "  <div class=\"colab-df-container\">\n",
              "    <button class=\"colab-df-convert\" onclick=\"convertToInteractive('df-ec17e886-670d-4368-bbb2-97cf3782dc97')\"\n",
              "            title=\"Convert this dataframe to an interactive table.\"\n",
              "            style=\"display:none;\">\n",
              "\n",
              "  <svg xmlns=\"http://www.w3.org/2000/svg\" height=\"24px\" viewBox=\"0 -960 960 960\">\n",
              "    <path d=\"M120-120v-720h720v720H120Zm60-500h600v-160H180v160Zm220 220h160v-160H400v160Zm0 220h160v-160H400v160ZM180-400h160v-160H180v160Zm440 0h160v-160H620v160ZM180-180h160v-160H180v160Zm440 0h160v-160H620v160Z\"/>\n",
              "  </svg>\n",
              "    </button>\n",
              "\n",
              "  <style>\n",
              "    .colab-df-container {\n",
              "      display:flex;\n",
              "      gap: 12px;\n",
              "    }\n",
              "\n",
              "    .colab-df-convert {\n",
              "      background-color: #E8F0FE;\n",
              "      border: none;\n",
              "      border-radius: 50%;\n",
              "      cursor: pointer;\n",
              "      display: none;\n",
              "      fill: #1967D2;\n",
              "      height: 32px;\n",
              "      padding: 0 0 0 0;\n",
              "      width: 32px;\n",
              "    }\n",
              "\n",
              "    .colab-df-convert:hover {\n",
              "      background-color: #E2EBFA;\n",
              "      box-shadow: 0px 1px 2px rgba(60, 64, 67, 0.3), 0px 1px 3px 1px rgba(60, 64, 67, 0.15);\n",
              "      fill: #174EA6;\n",
              "    }\n",
              "\n",
              "    .colab-df-buttons div {\n",
              "      margin-bottom: 4px;\n",
              "    }\n",
              "\n",
              "    [theme=dark] .colab-df-convert {\n",
              "      background-color: #3B4455;\n",
              "      fill: #D2E3FC;\n",
              "    }\n",
              "\n",
              "    [theme=dark] .colab-df-convert:hover {\n",
              "      background-color: #434B5C;\n",
              "      box-shadow: 0px 1px 3px 1px rgba(0, 0, 0, 0.15);\n",
              "      filter: drop-shadow(0px 1px 2px rgba(0, 0, 0, 0.3));\n",
              "      fill: #FFFFFF;\n",
              "    }\n",
              "  </style>\n",
              "\n",
              "    <script>\n",
              "      const buttonEl =\n",
              "        document.querySelector('#df-ec17e886-670d-4368-bbb2-97cf3782dc97 button.colab-df-convert');\n",
              "      buttonEl.style.display =\n",
              "        google.colab.kernel.accessAllowed ? 'block' : 'none';\n",
              "\n",
              "      async function convertToInteractive(key) {\n",
              "        const element = document.querySelector('#df-ec17e886-670d-4368-bbb2-97cf3782dc97');\n",
              "        const dataTable =\n",
              "          await google.colab.kernel.invokeFunction('convertToInteractive',\n",
              "                                                    [key], {});\n",
              "        if (!dataTable) return;\n",
              "\n",
              "        const docLinkHtml = 'Like what you see? Visit the ' +\n",
              "          '<a target=\"_blank\" href=https://colab.research.google.com/notebooks/data_table.ipynb>data table notebook</a>'\n",
              "          + ' to learn more about interactive tables.';\n",
              "        element.innerHTML = '';\n",
              "        dataTable['output_type'] = 'display_data';\n",
              "        await google.colab.output.renderOutput(dataTable, element);\n",
              "        const docLink = document.createElement('div');\n",
              "        docLink.innerHTML = docLinkHtml;\n",
              "        element.appendChild(docLink);\n",
              "      }\n",
              "    </script>\n",
              "  </div>\n",
              "\n",
              "\n",
              "<div id=\"df-7adeda56-4cc6-4522-9cff-c0fa793e6c4d\">\n",
              "  <button class=\"colab-df-quickchart\" onclick=\"quickchart('df-7adeda56-4cc6-4522-9cff-c0fa793e6c4d')\"\n",
              "            title=\"Suggest charts\"\n",
              "            style=\"display:none;\">\n",
              "\n",
              "<svg xmlns=\"http://www.w3.org/2000/svg\" height=\"24px\"viewBox=\"0 0 24 24\"\n",
              "     width=\"24px\">\n",
              "    <g>\n",
              "        <path d=\"M19 3H5c-1.1 0-2 .9-2 2v14c0 1.1.9 2 2 2h14c1.1 0 2-.9 2-2V5c0-1.1-.9-2-2-2zM9 17H7v-7h2v7zm4 0h-2V7h2v10zm4 0h-2v-4h2v4z\"/>\n",
              "    </g>\n",
              "</svg>\n",
              "  </button>\n",
              "\n",
              "<style>\n",
              "  .colab-df-quickchart {\n",
              "      --bg-color: #E8F0FE;\n",
              "      --fill-color: #1967D2;\n",
              "      --hover-bg-color: #E2EBFA;\n",
              "      --hover-fill-color: #174EA6;\n",
              "      --disabled-fill-color: #AAA;\n",
              "      --disabled-bg-color: #DDD;\n",
              "  }\n",
              "\n",
              "  [theme=dark] .colab-df-quickchart {\n",
              "      --bg-color: #3B4455;\n",
              "      --fill-color: #D2E3FC;\n",
              "      --hover-bg-color: #434B5C;\n",
              "      --hover-fill-color: #FFFFFF;\n",
              "      --disabled-bg-color: #3B4455;\n",
              "      --disabled-fill-color: #666;\n",
              "  }\n",
              "\n",
              "  .colab-df-quickchart {\n",
              "    background-color: var(--bg-color);\n",
              "    border: none;\n",
              "    border-radius: 50%;\n",
              "    cursor: pointer;\n",
              "    display: none;\n",
              "    fill: var(--fill-color);\n",
              "    height: 32px;\n",
              "    padding: 0;\n",
              "    width: 32px;\n",
              "  }\n",
              "\n",
              "  .colab-df-quickchart:hover {\n",
              "    background-color: var(--hover-bg-color);\n",
              "    box-shadow: 0 1px 2px rgba(60, 64, 67, 0.3), 0 1px 3px 1px rgba(60, 64, 67, 0.15);\n",
              "    fill: var(--button-hover-fill-color);\n",
              "  }\n",
              "\n",
              "  .colab-df-quickchart-complete:disabled,\n",
              "  .colab-df-quickchart-complete:disabled:hover {\n",
              "    background-color: var(--disabled-bg-color);\n",
              "    fill: var(--disabled-fill-color);\n",
              "    box-shadow: none;\n",
              "  }\n",
              "\n",
              "  .colab-df-spinner {\n",
              "    border: 2px solid var(--fill-color);\n",
              "    border-color: transparent;\n",
              "    border-bottom-color: var(--fill-color);\n",
              "    animation:\n",
              "      spin 1s steps(1) infinite;\n",
              "  }\n",
              "\n",
              "  @keyframes spin {\n",
              "    0% {\n",
              "      border-color: transparent;\n",
              "      border-bottom-color: var(--fill-color);\n",
              "      border-left-color: var(--fill-color);\n",
              "    }\n",
              "    20% {\n",
              "      border-color: transparent;\n",
              "      border-left-color: var(--fill-color);\n",
              "      border-top-color: var(--fill-color);\n",
              "    }\n",
              "    30% {\n",
              "      border-color: transparent;\n",
              "      border-left-color: var(--fill-color);\n",
              "      border-top-color: var(--fill-color);\n",
              "      border-right-color: var(--fill-color);\n",
              "    }\n",
              "    40% {\n",
              "      border-color: transparent;\n",
              "      border-right-color: var(--fill-color);\n",
              "      border-top-color: var(--fill-color);\n",
              "    }\n",
              "    60% {\n",
              "      border-color: transparent;\n",
              "      border-right-color: var(--fill-color);\n",
              "    }\n",
              "    80% {\n",
              "      border-color: transparent;\n",
              "      border-right-color: var(--fill-color);\n",
              "      border-bottom-color: var(--fill-color);\n",
              "    }\n",
              "    90% {\n",
              "      border-color: transparent;\n",
              "      border-bottom-color: var(--fill-color);\n",
              "    }\n",
              "  }\n",
              "</style>\n",
              "\n",
              "  <script>\n",
              "    async function quickchart(key) {\n",
              "      const quickchartButtonEl =\n",
              "        document.querySelector('#' + key + ' button');\n",
              "      quickchartButtonEl.disabled = true;  // To prevent multiple clicks.\n",
              "      quickchartButtonEl.classList.add('colab-df-spinner');\n",
              "      try {\n",
              "        const charts = await google.colab.kernel.invokeFunction(\n",
              "            'suggestCharts', [key], {});\n",
              "      } catch (error) {\n",
              "        console.error('Error during call to suggestCharts:', error);\n",
              "      }\n",
              "      quickchartButtonEl.classList.remove('colab-df-spinner');\n",
              "      quickchartButtonEl.classList.add('colab-df-quickchart-complete');\n",
              "    }\n",
              "    (() => {\n",
              "      let quickchartButtonEl =\n",
              "        document.querySelector('#df-7adeda56-4cc6-4522-9cff-c0fa793e6c4d button');\n",
              "      quickchartButtonEl.style.display =\n",
              "        google.colab.kernel.accessAllowed ? 'block' : 'none';\n",
              "    })();\n",
              "  </script>\n",
              "</div>\n",
              "\n",
              "    </div>\n",
              "  </div>\n"
            ],
            "application/vnd.google.colaboratory.intrinsic+json": {
              "type": "dataframe",
              "variable_name": "df",
              "summary": "{\n  \"name\": \"df\",\n  \"rows\": 23516,\n  \"fields\": [\n    {\n      \"column\": \"text\",\n      \"properties\": {\n        \"dtype\": \"string\",\n        \"num_unique_values\": 20896,\n        \"samples\": [\n          \"The disease is primarily treated with systemic corticosteroids.\",\n          \"This case presents a patient with neuropathic pain in a lower extremity, which appeared subsequent to the removal of a C1 meningioma and which was successfully treated by lower thoracic spinal cord stimulation.\",\n          \"Antipsychotic-induced RLS and PLMS are not well-recognized side effects of antipsychotics, with the symptoms often misdiagnosed as psychotic agitation.\"\n        ],\n        \"semantic_type\": \"\",\n        \"description\": \"\"\n      }\n    },\n    {\n      \"column\": \"label\",\n      \"properties\": {\n        \"dtype\": \"number\",\n        \"std\": 0,\n        \"min\": 0,\n        \"max\": 1,\n        \"num_unique_values\": 2,\n        \"samples\": [\n          0,\n          1\n        ],\n        \"semantic_type\": \"\",\n        \"description\": \"\"\n      }\n    }\n  ]\n}"
            }
          },
          "metadata": {},
          "execution_count": 1
        }
      ],
      "source": [
        "import pandas as pd\n",
        "\n",
        "# load the dataset #\n",
        "df = pd.read_parquet(\"hf://datasets/ade-benchmark-corpus/ade_corpus_v2/Ade_corpus_v2_classification/train-00000-of-00001.parquet\")\n",
        "df.head()"
      ]
    },
    {
      "cell_type": "markdown",
      "source": [
        "## EDA"
      ],
      "metadata": {
        "id": "_fLYyNFS2WnL"
      }
    },
    {
      "cell_type": "code",
      "source": [
        "print(df.info())\n",
        "print(df.head())\n",
        "print(df.isnull().sum())\n",
        "print(df.describe())\n",
        "print(df['label'].value_counts())\n",
        "\n",
        "# plot the distribution of text length #\n",
        "import matplotlib.pyplot as plt\n",
        "import seaborn as sns\n",
        "\n",
        "df['text_length'] = df['text'].apply(len)\n",
        "plt.figure(figsize=(10, 6))\n",
        "sns.histplot(df['text_length'], bins=50, kde=True)\n",
        "plt.title('Distribution of Text Lengths')\n",
        "plt.xlabel('Text Length')\n",
        "plt.ylabel('Frequency')\n",
        "plt.show()\n",
        "\n",
        "# plot the class distribution #\n",
        "plt.figure(figsize=(6, 4))\n",
        "sns.countplot(x='label', data=df)\n",
        "plt.title('Class Distribution')\n",
        "plt.xlabel('Label')\n",
        "plt.ylabel('Count')\n",
        "plt.show()"
      ],
      "metadata": {
        "colab": {
          "base_uri": "https://localhost:8080/",
          "height": 1000
        },
        "id": "HG-TuUMUkEpM",
        "outputId": "525ba6e7-4dc3-4015-ca2f-304e643ead09"
      },
      "execution_count": 2,
      "outputs": [
        {
          "output_type": "stream",
          "name": "stdout",
          "text": [
            "<class 'pandas.core.frame.DataFrame'>\n",
            "RangeIndex: 23516 entries, 0 to 23515\n",
            "Data columns (total 2 columns):\n",
            " #   Column  Non-Null Count  Dtype \n",
            "---  ------  --------------  ----- \n",
            " 0   text    23516 non-null  object\n",
            " 1   label   23516 non-null  int64 \n",
            "dtypes: int64(1), object(1)\n",
            "memory usage: 367.6+ KB\n",
            "None\n",
            "                                                text  label\n",
            "0      Intravenous azithromycin-induced ototoxicity.      1\n",
            "1  Immobilization, while Paget's bone disease was...      1\n",
            "2  Unaccountable severe hypercalcemia in a patien...      1\n",
            "3  METHODS: We report two cases of pseudoporphyri...      1\n",
            "4  METHODS: We report two cases of pseudoporphyri...      1\n",
            "text     0\n",
            "label    0\n",
            "dtype: int64\n",
            "              label\n",
            "count  23516.000000\n",
            "mean       0.290058\n",
            "std        0.453798\n",
            "min        0.000000\n",
            "25%        0.000000\n",
            "50%        0.000000\n",
            "75%        1.000000\n",
            "max        1.000000\n",
            "label\n",
            "0    16695\n",
            "1     6821\n",
            "Name: count, dtype: int64\n"
          ]
        },
        {
          "output_type": "display_data",
          "data": {
            "text/plain": [
              "<Figure size 1000x600 with 1 Axes>"
            ],
            "image/png": "[encoded data removed]"
          },
          "metadata": {}
        },
        {
          "output_type": "display_data",
          "data": {
            "text/plain": [
              "<Figure size 600x400 with 1 Axes>"
            ],
            "image/png": "[encoded data removed]"
          },
          "metadata": {}
        }
      ]
    },
    {
      "cell_type": "markdown",
      "source": [
        "## EDA Conclusions:\n",
        "### The dataset contains no missing values\n",
        "### The text lengths vary widely, with most texts being relatively short (fewer than 400 words)\n",
        "### The dataset is imbalanced, with more instances of one class compared to the other"
      ],
      "metadata": {
        "id": "QjC6__NmB-oL"
      }
    },
    {
      "cell_type": "markdown",
      "source": [
        "## Split the dataset into training, validation, and test sets"
      ],
      "metadata": {
        "id": "VeH4lEh07TV_"
      }
    },
    {
      "cell_type": "code",
      "source": [
        "from sklearn.model_selection import train_test_split\n",
        "\n",
        "# stratified split #\n",
        "train_df, temp_df = train_test_split(df, test_size=0.3, stratify=df['label'], random_state=42)\n",
        "val_df, test_df = train_test_split(temp_df, test_size=0.5, stratify=temp_df['label'], random_state=42)\n",
        "\n",
        "# check the distribution of classes in each split #\n",
        "print(train_df['label'].value_counts(normalize=True))\n",
        "print(val_df['label'].value_counts(normalize=True))\n",
        "print(test_df['label'].value_counts(normalize=True))"
      ],
      "metadata": {
        "colab": {
          "base_uri": "https://localhost:8080/"
        },
        "id": "37ypJATjkKdD",
        "outputId": "f1ec0e4e-8585-4a67-eac8-35ff787d4c76"
      },
      "execution_count": 3,
      "outputs": [
        {
          "output_type": "stream",
          "name": "stdout",
          "text": [
            "label\n",
            "0    0.70992\n",
            "1    0.29008\n",
            "Name: proportion, dtype: float64\n",
            "label\n",
            "0    0.709952\n",
            "1    0.290048\n",
            "Name: proportion, dtype: float64\n",
            "label\n",
            "0    0.710034\n",
            "1    0.289966\n",
            "Name: proportion, dtype: float64\n"
          ]
        }
      ]
    },
    {
      "cell_type": "markdown",
      "source": [
        "## Convert the pandas DataFrames into TensorFlow datasets\n",
        "## Shuffle the training data but keep the validation and test data in order"
      ],
      "metadata": {
        "id": "BwWO2HHJ7ePq"
      }
    },
    {
      "cell_type": "code",
      "source": [
        "import tensorflow as tf\n",
        "\n",
        "def df_to_dataset(dataframe, shuffle=True, batch_size=32):\n",
        "    df = dataframe.copy()\n",
        "    labels = df.pop('label')\n",
        "    ds = tf.data.Dataset.from_tensor_slices((dict(df), labels))\n",
        "    if shuffle:\n",
        "        ds = ds.shuffle(buffer_size=len(dataframe))\n",
        "    ds = ds.batch(batch_size)\n",
        "    return ds\n",
        "\n",
        "# convert dataframes to tensorflow datasets #\n",
        "batch_size = 32\n",
        "train_ds = df_to_dataset(train_df, shuffle=True, batch_size=batch_size)\n",
        "val_ds = df_to_dataset(val_df, shuffle=False, batch_size=batch_size)\n",
        "test_ds = df_to_dataset(test_df, shuffle=False, batch_size=batch_size)"
      ],
      "metadata": {
        "id": "51WEKTmOkS1P"
      },
      "execution_count": 4,
      "outputs": []
    },
    {
      "cell_type": "markdown",
      "source": [
        "## Define custom standardization and tokenization functions for the text data\n",
        "## The standardization function should convert text to lowercase and remove punctuation\n",
        "## The tokenization function should split the text into words"
      ],
      "metadata": {
        "id": "Covi8vPH7voo"
      }
    },
    {
      "cell_type": "code",
      "source": [
        "import string\n",
        "\n",
        "def custom_standardization(input_text):\n",
        "    lowercase = tf.strings.lower(input_text)\n",
        "    return tf.strings.regex_replace(lowercase, f'[{string.punctuation}]', '')\n",
        "\n",
        "def custom_tokenizer(input_text):\n",
        "    return tf.strings.split(input_text)"
      ],
      "metadata": {
        "id": "8aIrpblGkYjX"
      },
      "execution_count": 5,
      "outputs": []
    },
    {
      "cell_type": "markdown",
      "source": [
        "## Implement a text vectorization layer with the following configurations:\n",
        "### Multi-hot encoding with unigrams\n",
        "### Multi-hot encoding with bigrams\n",
        "### TF-IDF encoding with bigrams\n",
        "### Use a vocabulary size of 15,000"
      ],
      "metadata": {
        "id": "rApD0elo7-xI"
      }
    },
    {
      "cell_type": "code",
      "source": [
        "import tensorflow as tf\n",
        "from tensorflow.keras.layers import TextVectorization\n",
        "\n",
        "# custom standardization and tokenization functions #\n",
        "def custom_standardization(input_text):\n",
        "    lowercase = tf.strings.lower(input_text)\n",
        "    return tf.strings.regex_replace(lowercase, f'[{string.punctuation}]', '')\n",
        "\n",
        "def custom_tokenizer(input_text):\n",
        "    return tf.strings.split(input_text)\n",
        "\n",
        "# configurations for text vectorization #\n",
        "vocab_size = 15000\n",
        "\n",
        "# multi-hot encoding with unigrams #\n",
        "unigram_vectorizer = TextVectorization(\n",
        "    max_tokens=vocab_size,\n",
        "    output_mode='multi_hot',\n",
        "    standardize=custom_standardization,\n",
        "    split=custom_tokenizer\n",
        ")\n",
        "\n",
        "# multi-hot encoding with bigrams #\n",
        "bigram_vectorizer = TextVectorization(\n",
        "    max_tokens=vocab_size,\n",
        "    output_mode='multi_hot',\n",
        "    ngrams=2,\n",
        "    standardize=custom_standardization,\n",
        "    split=custom_tokenizer\n",
        ")\n",
        "\n",
        "# tf-idf encoding with bigrams #\n",
        "tfidf_bigram_vectorizer = TextVectorization(\n",
        "    max_tokens=vocab_size,\n",
        "    output_mode='tf_idf',\n",
        "    ngrams=2,\n",
        "    standardize=custom_standardization,\n",
        "    split=custom_tokenizer\n",
        ")\n",
        "\n",
        "# adapt the vectorizers on the training data #\n",
        "train_text = train_df['text'].values\n",
        "unigram_vectorizer.adapt(train_text)\n",
        "bigram_vectorizer.adapt(train_text)\n",
        "tfidf_bigram_vectorizer.adapt(train_text)"
      ],
      "metadata": {
        "id": "IfbzWz9HkcLY"
      },
      "execution_count": 7,
      "outputs": []
    },
    {
      "cell_type": "markdown",
      "source": [
        "## Apply the text vectorization layer to the training, validation, and test datasets for each configuration"
      ],
      "metadata": {
        "id": "462aYl0T8TWj"
      }
    },
    {
      "cell_type": "code",
      "source": [
        "# function to vectorize the datasets #\n",
        "def vectorize_text(vectorizer, text, label):\n",
        "    text = tf.expand_dims(text['text'], -1)\n",
        "    return vectorizer(text), label\n",
        "\n",
        "# vectorize the datasets for each configuration #\n",
        "train_ds_unigram = train_ds.map(lambda x, y: vectorize_text(unigram_vectorizer, x, y))\n",
        "val_ds_unigram = val_ds.map(lambda x, y: vectorize_text(unigram_vectorizer, x, y))\n",
        "test_ds_unigram = test_ds.map(lambda x, y: vectorize_text(unigram_vectorizer, x, y))\n",
        "\n",
        "train_ds_bigram = train_ds.map(lambda x, y: vectorize_text(bigram_vectorizer, x, y))\n",
        "val_ds_bigram = val_ds.map(lambda x, y: vectorize_text(bigram_vectorizer, x, y))\n",
        "test_ds_bigram = test_ds.map(lambda x, y: vectorize_text(bigram_vectorizer, x, y))\n",
        "\n",
        "train_ds_tfidf = train_ds.map(lambda x, y: vectorize_text(tfidf_bigram_vectorizer, x, y))\n",
        "val_ds_tfidf = val_ds.map(lambda x, y: vectorize_text(tfidf_bigram_vectorizer, x, y))\n",
        "test_ds_tfidf = test_ds.map(lambda x, y: vectorize_text(tfidf_bigram_vectorizer, x, y))"
      ],
      "metadata": {
        "id": "QfFpgI0_k9HI"
      },
      "execution_count": 8,
      "outputs": []
    },
    {
      "cell_type": "markdown",
      "source": [
        "## Define a neural network model with an input layer, a dense hidden layer with ReLU activation, a dropout layer, and an output layer with sigmoid activation\n",
        "## Compile the model with the RMSprop optimizer, binary crossentropy loss, and accuracy metric"
      ],
      "metadata": {
        "id": "T402UoLt8bEh"
      }
    },
    {
      "cell_type": "code",
      "source": [
        "from tensorflow.keras import layers\n",
        "\n",
        "def create_model():\n",
        "    model = tf.keras.Sequential([\n",
        "        layers.Input(shape=(vocab_size,)),\n",
        "        layers.Dense(128, activation='relu'),\n",
        "        layers.Dropout(0.5),\n",
        "        layers.Dense(1, activation='sigmoid')\n",
        "    ])\n",
        "\n",
        "    model.compile(\n",
        "        optimizer='rmsprop',\n",
        "        loss='binary_crossentropy',\n",
        "        metrics=['accuracy']\n",
        "    )\n",
        "\n",
        "    return model\n",
        "\n",
        "model_unigram = create_model()\n",
        "model_bigram = create_model()\n",
        "model_tfidf = create_model()"
      ],
      "metadata": {
        "id": "FKUCXhP6lJic"
      },
      "execution_count": 9,
      "outputs": []
    },
    {
      "cell_type": "markdown",
      "source": [
        "## Train the model for each text vectorization configuration using the training and validation datasets\n",
        "## Save the best model based on validation accuracy during training"
      ],
      "metadata": {
        "id": "blJVePBn8kWS"
      }
    },
    {
      "cell_type": "code",
      "source": [
        "# training parameters #\n",
        "epochs = 10\n",
        "\n",
        "# train and validate the model with unigram vectorization #\n",
        "history_unigram = model_unigram.fit(\n",
        "    train_ds_unigram,\n",
        "    validation_data=val_ds_unigram,\n",
        "    epochs=epochs,\n",
        "    callbacks=[tf.keras.callbacks.ModelCheckpoint('best_model_unigram.keras', save_best_only=True, monitor='val_accuracy')]\n",
        ")\n",
        "\n",
        "# train and validate the model with bigram vectorization #\n",
        "history_bigram = model_bigram.fit(\n",
        "    train_ds_bigram,\n",
        "    validation_data=val_ds_bigram,\n",
        "    epochs=epochs,\n",
        "    callbacks=[tf.keras.callbacks.ModelCheckpoint('best_model_bigram.keras', save_best_only=True, monitor='val_accuracy')]\n",
        ")\n",
        "\n",
        "# train and validate the model with tf-idf bigram vectorization #\n",
        "history_tfidf = model_tfidf.fit(\n",
        "    train_ds_tfidf,\n",
        "    validation_data=val_ds_tfidf,\n",
        "    epochs=epochs,\n",
        "    callbacks=[tf.keras.callbacks.ModelCheckpoint('best_model_tfidf.keras', save_best_only=True, monitor='val_accuracy')]\n",
        ")"
      ],
      "metadata": {
        "colab": {
          "base_uri": "https://localhost:8080/"
        },
        "id": "IIYPG26RlijJ",
        "outputId": "023c43fe-a6c0-4f0b-974c-4164fb0bbba1"
      },
      "execution_count": 11,
      "outputs": [
        {
          "output_type": "stream",
          "name": "stdout",
          "text": [
            "Epoch 1/10\n",
            "\u001b[1m515/515\u001b[0m \u001b[32m━━━━━━━━━━━━━━━━━━━━\u001b[0m\u001b[37m\u001b[0m \u001b[1m42s\u001b[0m 74ms/step - accuracy: 0.7619 - loss: 0.5148 - val_accuracy: 0.8489 - val_loss: 0.3682\n",
            "Epoch 2/10\n",
            "\u001b[1m515/515\u001b[0m \u001b[32m━━━━━━━━━━━━━━━━━━━━\u001b[0m\u001b[37m\u001b[0m \u001b[1m32s\u001b[0m 62ms/step - accuracy: 0.8669 - loss: 0.3366 - val_accuracy: 0.8582 - val_loss: 0.3460\n",
            "Epoch 3/10\n",
            "\u001b[1m515/515\u001b[0m \u001b[32m━━━━━━━━━━━━━━━━━━━━\u001b[0m\u001b[37m\u001b[0m \u001b[1m33s\u001b[0m 64ms/step - accuracy: 0.8802 - loss: 0.2916 - val_accuracy: 0.8653 - val_loss: 0.3328\n",
            "Epoch 4/10\n",
            "\u001b[1m515/515\u001b[0m \u001b[32m━━━━━━━━━━━━━━━━━━━━\u001b[0m\u001b[37m\u001b[0m \u001b[1m40s\u001b[0m 78ms/step - accuracy: 0.8966 - loss: 0.2653 - val_accuracy: 0.8718 - val_loss: 0.3314\n",
            "Epoch 5/10\n",
            "\u001b[1m515/515\u001b[0m \u001b[32m━━━━━━━━━━━━━━━━━━━━\u001b[0m\u001b[37m\u001b[0m \u001b[1m36s\u001b[0m 68ms/step - accuracy: 0.9121 - loss: 0.2361 - val_accuracy: 0.8750 - val_loss: 0.3289\n",
            "Epoch 6/10\n",
            "\u001b[1m515/515\u001b[0m \u001b[32m━━━━━━━━━━━━━━━━━━━━\u001b[0m\u001b[37m\u001b[0m \u001b[1m35s\u001b[0m 67ms/step - accuracy: 0.9141 - loss: 0.2261 - val_accuracy: 0.8741 - val_loss: 0.3285\n",
            "Epoch 7/10\n",
            "\u001b[1m515/515\u001b[0m \u001b[32m━━━━━━━━━━━━━━━━━━━━\u001b[0m\u001b[37m\u001b[0m \u001b[1m43s\u001b[0m 70ms/step - accuracy: 0.9278 - loss: 0.1988 - val_accuracy: 0.8795 - val_loss: 0.3307\n",
            "Epoch 8/10\n",
            "\u001b[1m515/515\u001b[0m \u001b[32m━━━━━━━━━━━━━━━━━━━━\u001b[0m\u001b[37m\u001b[0m \u001b[1m44s\u001b[0m 76ms/step - accuracy: 0.9313 - loss: 0.1915 - val_accuracy: 0.8789 - val_loss: 0.3335\n",
            "Epoch 9/10\n",
            "\u001b[1m515/515\u001b[0m \u001b[32m━━━━━━━━━━━━━━━━━━━━\u001b[0m\u001b[37m\u001b[0m \u001b[1m35s\u001b[0m 68ms/step - accuracy: 0.9390 - loss: 0.1740 - val_accuracy: 0.8806 - val_loss: 0.3377\n",
            "Epoch 10/10\n",
            "\u001b[1m515/515\u001b[0m \u001b[32m━━━━━━━━━━━━━━━━━━━━\u001b[0m\u001b[37m\u001b[0m \u001b[1m33s\u001b[0m 65ms/step - accuracy: 0.9429 - loss: 0.1620 - val_accuracy: 0.8838 - val_loss: 0.3380\n",
            "Epoch 1/10\n",
            "\u001b[1m515/515\u001b[0m \u001b[32m━━━━━━━━━━━━━━━━━━━━\u001b[0m\u001b[37m\u001b[0m \u001b[1m65s\u001b[0m 123ms/step - accuracy: 0.7692 - loss: 0.5020 - val_accuracy: 0.8500 - val_loss: 0.3602\n",
            "Epoch 2/10\n",
            "\u001b[1m515/515\u001b[0m \u001b[32m━━━━━━━━━━━━━━━━━━━━\u001b[0m\u001b[37m\u001b[0m \u001b[1m62s\u001b[0m 120ms/step - accuracy: 0.8732 - loss: 0.3116 - val_accuracy: 0.8619 - val_loss: 0.3459\n",
            "Epoch 3/10\n",
            "\u001b[1m515/515\u001b[0m \u001b[32m━━━━━━━━━━━━━━━━━━━━\u001b[0m\u001b[37m\u001b[0m \u001b[1m61s\u001b[0m 118ms/step - accuracy: 0.8988 - loss: 0.2614 - val_accuracy: 0.8642 - val_loss: 0.3441\n",
            "Epoch 4/10\n",
            "\u001b[1m515/515\u001b[0m \u001b[32m━━━━━━━━━━━━━━━━━━━━\u001b[0m\u001b[37m\u001b[0m \u001b[1m62s\u001b[0m 121ms/step - accuracy: 0.9165 - loss: 0.2216 - val_accuracy: 0.8738 - val_loss: 0.3425\n",
            "Epoch 5/10\n",
            "\u001b[1m515/515\u001b[0m \u001b[32m━━━━━━━━━━━━━━━━━━━━\u001b[0m\u001b[37m\u001b[0m \u001b[1m66s\u001b[0m 129ms/step - accuracy: 0.9299 - loss: 0.1929 - val_accuracy: 0.8778 - val_loss: 0.3448\n",
            "Epoch 6/10\n",
            "\u001b[1m515/515\u001b[0m \u001b[32m━━━━━━━━━━━━━━━━━━━━\u001b[0m\u001b[37m\u001b[0m \u001b[1m65s\u001b[0m 126ms/step - accuracy: 0.9375 - loss: 0.1742 - val_accuracy: 0.8769 - val_loss: 0.3504\n",
            "Epoch 7/10\n",
            "\u001b[1m515/515\u001b[0m \u001b[32m━━━━━━━━━━━━━━━━━━━━\u001b[0m\u001b[37m\u001b[0m \u001b[1m64s\u001b[0m 125ms/step - accuracy: 0.9463 - loss: 0.1547 - val_accuracy: 0.8798 - val_loss: 0.3576\n",
            "Epoch 8/10\n",
            "\u001b[1m515/515\u001b[0m \u001b[32m━━━━━━━━━━━━━━━━━━━━\u001b[0m\u001b[37m\u001b[0m \u001b[1m64s\u001b[0m 125ms/step - accuracy: 0.9526 - loss: 0.1407 - val_accuracy: 0.8804 - val_loss: 0.3708\n",
            "Epoch 9/10\n",
            "\u001b[1m515/515\u001b[0m \u001b[32m━━━━━━━━━━━━━━━━━━━━\u001b[0m\u001b[37m\u001b[0m \u001b[1m64s\u001b[0m 125ms/step - accuracy: 0.9548 - loss: 0.1323 - val_accuracy: 0.8823 - val_loss: 0.3792\n",
            "Epoch 10/10\n",
            "\u001b[1m515/515\u001b[0m \u001b[32m━━━━━━━━━━━━━━━━━━━━\u001b[0m\u001b[37m\u001b[0m \u001b[1m81s\u001b[0m 124ms/step - accuracy: 0.9651 - loss: 0.1141 - val_accuracy: 0.8812 - val_loss: 0.3838\n",
            "Epoch 1/10\n",
            "\u001b[1m515/515\u001b[0m \u001b[32m━━━━━━━━━━━━━━━━━━━━\u001b[0m\u001b[37m\u001b[0m \u001b[1m65s\u001b[0m 124ms/step - accuracy: 0.7782 - loss: 0.5091 - val_accuracy: 0.8614 - val_loss: 0.3524\n",
            "Epoch 2/10\n",
            "\u001b[1m515/515\u001b[0m \u001b[32m━━━━━━━━━━━━━━━━━━━━\u001b[0m\u001b[37m\u001b[0m \u001b[1m79s\u001b[0m 120ms/step - accuracy: 0.8906 - loss: 0.2897 - val_accuracy: 0.8696 - val_loss: 0.3419\n",
            "Epoch 3/10\n",
            "\u001b[1m515/515\u001b[0m \u001b[32m━━━━━━━━━━━━━━━━━━━━\u001b[0m\u001b[37m\u001b[0m \u001b[1m62s\u001b[0m 120ms/step - accuracy: 0.9131 - loss: 0.2396 - val_accuracy: 0.8738 - val_loss: 0.3499\n",
            "Epoch 4/10\n",
            "\u001b[1m515/515\u001b[0m \u001b[32m━━━━━━━━━━━━━━━━━━━━\u001b[0m\u001b[37m\u001b[0m \u001b[1m62s\u001b[0m 120ms/step - accuracy: 0.9362 - loss: 0.1859 - val_accuracy: 0.8801 - val_loss: 0.3410\n",
            "Epoch 5/10\n",
            "\u001b[1m515/515\u001b[0m \u001b[32m━━━━━━━━━━━━━━━━━━━━\u001b[0m\u001b[37m\u001b[0m \u001b[1m61s\u001b[0m 119ms/step - accuracy: 0.9475 - loss: 0.1592 - val_accuracy: 0.8809 - val_loss: 0.3592\n",
            "Epoch 6/10\n",
            "\u001b[1m515/515\u001b[0m \u001b[32m━━━━━━━━━━━━━━━━━━━━\u001b[0m\u001b[37m\u001b[0m \u001b[1m83s\u001b[0m 120ms/step - accuracy: 0.9549 - loss: 0.1365 - val_accuracy: 0.8829 - val_loss: 0.3743\n",
            "Epoch 7/10\n",
            "\u001b[1m515/515\u001b[0m \u001b[32m━━━━━━━━━━━━━━━━━━━━\u001b[0m\u001b[37m\u001b[0m \u001b[1m61s\u001b[0m 119ms/step - accuracy: 0.9613 - loss: 0.1149 - val_accuracy: 0.8798 - val_loss: 0.4058\n",
            "Epoch 8/10\n",
            "\u001b[1m515/515\u001b[0m \u001b[32m━━━━━━━━━━━━━━━━━━━━\u001b[0m\u001b[37m\u001b[0m \u001b[1m72s\u001b[0m 139ms/step - accuracy: 0.9697 - loss: 0.0968 - val_accuracy: 0.8806 - val_loss: 0.4305\n",
            "Epoch 9/10\n",
            "\u001b[1m515/515\u001b[0m \u001b[32m━━━━━━━━━━━━━━━━━━━━\u001b[0m\u001b[37m\u001b[0m \u001b[1m62s\u001b[0m 121ms/step - accuracy: 0.9738 - loss: 0.0804 - val_accuracy: 0.8821 - val_loss: 0.4248\n",
            "Epoch 10/10\n",
            "\u001b[1m515/515\u001b[0m \u001b[32m━━━━━━━━━━━━━━━━━━━━\u001b[0m\u001b[37m\u001b[0m \u001b[1m62s\u001b[0m 121ms/step - accuracy: 0.9778 - loss: 0.0703 - val_accuracy: 0.8852 - val_loss: 0.4432\n"
          ]
        }
      ]
    },
    {
      "cell_type": "markdown",
      "source": [
        "## Evaluate the models on the test dataset and report the test accuracy, F1 score, and confusion matrix"
      ],
      "metadata": {
        "id": "97ltTpkt8rm2"
      }
    },
    {
      "cell_type": "code",
      "source": [
        "from sklearn.metrics import f1_score, confusion_matrix\n",
        "\n",
        "def evaluate_model(model, model_path, test_ds):\n",
        "    model.load_weights(model_path)\n",
        "    test_loss, test_acc = model.evaluate(test_ds)\n",
        "    print(f'Test Accuracy: {test_acc}')\n",
        "\n",
        "    # predict the labels #\n",
        "    y_true = []\n",
        "    y_pred = []\n",
        "    for x, y in test_ds:\n",
        "        y_true.extend(y.numpy())\n",
        "        y_pred.extend((model.predict(x, verbose=0) > 0.5).astype(\"int32\"))\n",
        "\n",
        "    f1 = f1_score(y_true, y_pred)\n",
        "    cm = confusion_matrix(y_true, y_pred)\n",
        "\n",
        "    print(f'F1 Score: {f1}')\n",
        "    print(f'Confusion Matrix:\\n {cm}')\n",
        "\n",
        "# evaluate each model #\n",
        "evaluate_model(model_unigram, 'best_model_unigram.keras', test_ds_unigram)\n",
        "evaluate_model(model_bigram, 'best_model_bigram.keras', test_ds_bigram)\n",
        "evaluate_model(model_tfidf, 'best_model_tfidf.keras', test_ds_tfidf)"
      ],
      "metadata": {
        "colab": {
          "base_uri": "https://localhost:8080/"
        },
        "id": "DFVsi_qSsi12",
        "outputId": "36ac907c-1e5c-4ca2-cc98-596e294d783b"
      },
      "execution_count": 14,
      "outputs": [
        {
          "output_type": "stream",
          "name": "stdout",
          "text": [
            "\u001b[1m111/111\u001b[0m \u001b[32m━━━━━━━━━━━━━━━━━━━━\u001b[0m\u001b[37m\u001b[0m \u001b[1m7s\u001b[0m 58ms/step - accuracy: 0.8825 - loss: 0.3277\n",
            "Test Accuracy: 0.8795351386070251\n",
            "F1 Score: 0.7771368641845832\n",
            "Confusion Matrix:\n",
            " [[2362  143]\n",
            " [ 282  741]]\n",
            "\u001b[1m111/111\u001b[0m \u001b[32m━━━━━━━━━━━━━━━━━━━━\u001b[0m\u001b[37m\u001b[0m \u001b[1m10s\u001b[0m 93ms/step - accuracy: 0.8849 - loss: 0.3619\n",
            "Test Accuracy: 0.8815192580223083\n",
            "F1 Score: 0.7816091954022988\n",
            "Confusion Matrix:\n",
            " [[2362  143]\n",
            " [ 275  748]]\n",
            "\u001b[1m111/111\u001b[0m \u001b[32m━━━━━━━━━━━━━━━━━━━━\u001b[0m\u001b[37m\u001b[0m \u001b[1m11s\u001b[0m 99ms/step - accuracy: 0.8941 - loss: 0.3905\n",
            "Test Accuracy: 0.8914399147033691\n",
            "F1 Score: 0.8040920716112533\n",
            "Confusion Matrix:\n",
            " [[2359  146]\n",
            " [ 237  786]]\n"
          ]
        }
      ]
    },
    {
      "cell_type": "markdown",
      "source": [
        "### Based on the evaluation results, the best-performing model is the one using TF-IDF bigram vectorization. This model achieved the highest test accuracy and F1 score --> Test Accuracy: 0.8914, F1 Score: 0.8041, confusion matrix indicates a balance between true positives and true negatives with fewer false negatives compared to the other models. To further improve the performance of the TF-IDF bigram model, some strategies we can consider include hyperparameter tuning (experiment with different hyperparameters such as learning rate, dropout rate, and batch size; use techniques like grid search or random search to find the optimal hyperparameters), reworking the model architecture (increase the complexity of the model by adding more hidden layers or increasing the number of units in each layer), data augmentation (perform data augmentation techniques like synonym replacement, random insertion, or random deletion to generate more training data), and ensemble methods (combine predictions from multiple models {e.g., unigram, bigram, and TF-IDF bigram} using ensemble techniques like bagging, boosting, or stacking)."
      ],
      "metadata": {
        "id": "Yp1V3Fi28_iW"
      }
    }
  ]
}